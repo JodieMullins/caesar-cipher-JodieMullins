{
 "cells": [
  {
   "cell_type": "markdown",
   "id": "d3927206",
   "metadata": {},
   "source": [
    "# Caesar Cipher\n",
    "\n",
    "Dictionary established to use for translate method, which is available to \n",
    "string types; also established to clearly define required alphabet replacement shift of 5 letters\n",
    "\n",
    "\n",
    "* Use of dictionary and translate method as I have implemented here will not overwrite special characters or numeric values, as requested"
   ]
  },
  {
   "cell_type": "code",
   "execution_count": 1,
   "id": "50ac4ecf",
   "metadata": {},
   "outputs": [],
   "source": [
    "encoded = {\n",
    "    'a': 'f',\n",
    "    'b': 'g',\n",
    "    'c': 'h',\n",
    "    'd': 'i',\n",
    "    'e': 'j',\n",
    "    'f': 'k',\n",
    "    'g': 'l',\n",
    "    'h': 'm',\n",
    "    'i': 'n',\n",
    "    'j': 'o',\n",
    "    'k': 'p',\n",
    "    'l': 'q',\n",
    "    'm': 'r',\n",
    "    'n': 's',\n",
    "    'o': 't',\n",
    "    'p': 'u',\n",
    "    'q': 'v',\n",
    "    'r': 'w',\n",
    "    's': 'x',\n",
    "    't': 'y',\n",
    "    'u': 'z',\n",
    "    'v': 'a',\n",
    "    'w': 'b',\n",
    "    'x': 'c',\n",
    "    'y': 'd',\n",
    "    'z': 'e',\n",
    "}"
   ]
  },
  {
   "cell_type": "markdown",
   "id": "80454a6a",
   "metadata": {},
   "source": [
    "To later use the translate method on my string, I have to first use the maketrans method.\n",
    "\n",
    "Within the maketrans() string method I pass my dictionary deemed 'encoded' to pair the Python-established ASCII table keys with my new alphabet-shifted values.\n",
    "\n",
    "* This new unicoded dictionary is held by the variable cipher ( and is more limited than the full ASCII table provided to Python )"
   ]
  },
  {
   "cell_type": "code",
   "execution_count": 2,
   "id": "3ef20032",
   "metadata": {},
   "outputs": [],
   "source": [
    "cipher = str.maketrans(encoded)"
   ]
  },
  {
   "cell_type": "markdown",
   "id": "75d1ac15",
   "metadata": {},
   "source": [
    "Next, I want to establish the exact string to work with; in this case, the string I want to \n",
    "work with will be input by the user, held by the variable 'user_sentence'\n",
    "\n",
    "* lower method allows for control over user input to ensure stable output regardless of capitalization "
   ]
  },
  {
   "cell_type": "code",
   "execution_count": 3,
   "id": "fa8f40f8",
   "metadata": {},
   "outputs": [
    {
     "name": "stdout",
     "output_type": "stream",
     "text": [
      "Input message to be ciphered: \n",
      "Python is fun!\n"
     ]
    }
   ],
   "source": [
    "user_sentence = str(input('Input message to be ciphered: \\n')).lower()"
   ]
  },
  {
   "cell_type": "markdown",
   "id": "941cb5ff",
   "metadata": {},
   "source": [
    "Now I want to update the value of the 'user_sentence' so that whatever statement the user input is ciphered beyond quickly recognizable language\n",
    "\n",
    "The translate method will take in (the re-assigned ASCII table values from my) variable cipher and 'translate' the characters identified in the 'encoded' dictionary from the user's sentence (entered based on Python-established ASCII)  "
   ]
  },
  {
   "cell_type": "code",
   "execution_count": 4,
   "id": "bf28e814",
   "metadata": {},
   "outputs": [],
   "source": [
    "user_sentence = user_sentence.translate(cipher)"
   ]
  },
  {
   "cell_type": "code",
   "execution_count": 5,
   "id": "12aacec1",
   "metadata": {},
   "outputs": [
    {
     "name": "stdout",
     "output_type": "stream",
     "text": [
      "The encrypted sentence is: udymts nx kzs!\n"
     ]
    }
   ],
   "source": [
    "print('The encrypted sentence is:', user_sentence)"
   ]
  }
 ],
 "metadata": {
  "kernelspec": {
   "display_name": "Python 3 (ipykernel)",
   "language": "python",
   "name": "python3"
  },
  "language_info": {
   "codemirror_mode": {
    "name": "ipython",
    "version": 3
   },
   "file_extension": ".py",
   "mimetype": "text/x-python",
   "name": "python",
   "nbconvert_exporter": "python",
   "pygments_lexer": "ipython3",
   "version": "3.10.7"
  }
 },
 "nbformat": 4,
 "nbformat_minor": 5
}
